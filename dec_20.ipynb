{
 "cells": [
  {
   "cell_type": "code",
   "execution_count": 89,
   "id": "initial_id",
   "metadata": {
    "collapsed": true,
    "ExecuteTime": {
     "end_time": "2023-12-21T10:20:57.581204300Z",
     "start_time": "2023-12-21T10:20:57.500782400Z"
    }
   },
   "outputs": [],
   "source": [
    "text='''%sf -> pz, gj\n",
    "%zh -> bc, st\n",
    "%hk -> bc\n",
    "&bc -> mn, zl, xb, mm, dh, hv, gz\n",
    "%st -> bc, mm\n",
    "%gv -> xf, qq\n",
    "%hv -> xb\n",
    "%nd -> gj, tr\n",
    "%zx -> bx, ms\n",
    "%sc -> ks, gj\n",
    "%gr -> hn\n",
    "%pl -> qq, rh\n",
    "%qc -> sf, gj\n",
    "%xr -> sc, gj\n",
    "%zl -> zh\n",
    "&gj -> ks, ld, sg, xr\n",
    "%dg -> ll, bx\n",
    "%nf -> bc, tg\n",
    "%lz -> cv, qq\n",
    "%nq -> dg, bx\n",
    "%rh -> qq, lp\n",
    "%xf -> qq, qj\n",
    "%ms -> bx, xh\n",
    "%mn -> bc, hv\n",
    "&jm -> rx\n",
    "%xh -> vt, bx\n",
    "%pz -> gj\n",
    "%vq -> bt\n",
    "%gz -> nf\n",
    "%bt -> gr\n",
    "&sg -> jm\n",
    "%fr -> bx, tb\n",
    "&lm -> jm\n",
    "%ld -> cl\n",
    "%cv -> vq\n",
    "%cl -> gj, jf\n",
    "%tr -> gj, sz\n",
    "%sz -> gj, ld\n",
    "%dx -> hk, bc\n",
    "%lr -> bx, fr\n",
    "%vt -> lr, bx\n",
    "%ll -> zx\n",
    "broadcaster -> pl, xr, mn, xc\n",
    "%lp -> lz\n",
    "%mm -> gz\n",
    "&qq -> lm, gr, cv, vq, lp, pl, bt\n",
    "%xb -> zl\n",
    "&bx -> ll, xc, db\n",
    "%tb -> bx\n",
    "%hn -> gv, qq\n",
    "%jf -> qc, gj\n",
    "%qj -> qq\n",
    "%xc -> bx, pm\n",
    "%tg -> bc, dx\n",
    "&dh -> jm\n",
    "%ks -> nd\n",
    "&db -> jm\n",
    "%pm -> bx, nq'''"
   ]
  },
  {
   "cell_type": "code",
   "execution_count": 69,
   "outputs": [],
   "source": [
    "text='''broadcaster -> a\n",
    "%a -> inv, con\n",
    "&inv -> b\n",
    "%b -> con\n",
    "&con -> output'''"
   ],
   "metadata": {
    "collapsed": false,
    "ExecuteTime": {
     "end_time": "2023-12-21T10:02:49.878324300Z",
     "start_time": "2023-12-21T10:02:49.862288Z"
    }
   },
   "id": "fc3a45a41b1d34d0"
  },
  {
   "cell_type": "code",
   "execution_count": 90,
   "outputs": [],
   "source": [
    "from collections import defaultdict\n",
    "from dataclasses import dataclass\n",
    "\n",
    "\n",
    "@dataclass()\n",
    "class Module:\n",
    "    name: str\n",
    "    type: str\n",
    "    inputs: list\n",
    "    outputs: list\n",
    "    flip_state: bool\n",
    "    conjunction_memory: defaultdict\n",
    "    def __init__(self, name, m_type):\n",
    "        self.name = name\n",
    "        self.type = m_type\n",
    "        self.inputs = []\n",
    "        self.outputs = []\n",
    "        self.flip_state = False\n",
    "        self.conjunction_memory = defaultdict(bool)\n",
    "        dot.node(name, shape=shape_table[m_type])\n",
    "    def __repr__(self):\n",
    "        return self.name\n",
    "    def pulse(self, value, sender):\n",
    "        if self.type == 'broadcaster':\n",
    "            for output in self.outputs:\n",
    "                q.put((output, value, self.name))\n",
    "        elif self.type == 'flipflop':\n",
    "            if not value:\n",
    "                self.flip_state = not self.flip_state\n",
    "                for output in self.outputs:\n",
    "                    q.put((output, self.flip_state, self.name))\n",
    "        elif self.type == 'conjunction':\n",
    "            self.conjunction_memory[sender] = value\n",
    "            output_value = not all(self.conjunction_memory[input_module.name] for input_module in self.inputs)\n",
    "            for output in self.outputs:\n",
    "                q.put((output, output_value, self.name))"
   ],
   "metadata": {
    "collapsed": false,
    "ExecuteTime": {
     "end_time": "2023-12-21T10:20:59.191480800Z",
     "start_time": "2023-12-21T10:20:59.177485500Z"
    }
   },
   "id": "c17a9243c3f6df1a"
  },
  {
   "cell_type": "code",
   "execution_count": 91,
   "outputs": [],
   "source": [
    "import graphviz\n",
    "from graphviz import dot\n",
    "from queue import Queue\n",
    "\n",
    "module_table = {}\n",
    "q = Queue()\n",
    "dot = graphviz.Digraph(format='png')\n",
    "shape_table = {'broadcaster': 'star', 'flipflop': 'box', 'conjunction': 'ellipse'}\n",
    "\n",
    "for line in text.splitlines():\n",
    "    left, _ = line.strip().split(' -> ')\n",
    "    if left.startswith('%'):\n",
    "        module_table[left[1:]] = Module(left[1:], 'flipflop')\n",
    "    elif left.startswith('&'):\n",
    "        module_table[left[1:]] = Module(left[1:], 'conjunction')\n",
    "    else:\n",
    "        module_table[left] = Module('broadcaster', 'broadcaster')\n",
    "\n",
    "for line in text.splitlines():\n",
    "    left, right = line.strip().split(' -> ')\n",
    "    m = module_table['broadcaster'] if left == 'broadcaster' else module_table[left[1:]]\n",
    "    for output in right.split(', '):\n",
    "        if output not in module_table:\n",
    "            module_table[output] = Module(output, 'broadcaster')\n",
    "        dot.edge(m.name, output)\n",
    "        output_module = module_table[output]\n",
    "        m.outputs.append(output_module)\n",
    "        output_module.inputs.append(m)"
   ],
   "metadata": {
    "collapsed": false,
    "ExecuteTime": {
     "end_time": "2023-12-21T10:20:59.837429300Z",
     "start_time": "2023-12-21T10:20:59.809453600Z"
    }
   },
   "id": "c12c2b73ca2b3e82"
  },
  {
   "cell_type": "code",
   "execution_count": 92,
   "outputs": [],
   "source": [
    "broadcaster = module_table['broadcaster']\n",
    "low_pulses = 0\n",
    "high_pulses = 0\n",
    "def press_button(count):\n",
    "    global low_pulses, high_pulses\n",
    "    q.put((broadcaster, False, None))\n",
    "    while not q.empty():\n",
    "        module, pulse_value, sender = q.get()\n",
    "        if pulse_value:\n",
    "            high_pulses += 1\n",
    "        else:\n",
    "            low_pulses += 1\n",
    "        # if module.name in ['xt', 'mk', 'zc', 'fp'] and not pulse_value:\n",
    "        #     print(module.name, count, int(not module.flip_state))\n",
    "        module.pulse(pulse_value, sender)\n",
    "    return False"
   ],
   "metadata": {
    "collapsed": false,
    "ExecuteTime": {
     "end_time": "2023-12-21T10:21:00.443606300Z",
     "start_time": "2023-12-21T10:21:00.426417500Z"
    }
   },
   "id": "6bd49b87107e4802"
  },
  {
   "cell_type": "code",
   "execution_count": 93,
   "outputs": [
    {
     "name": "stdout",
     "output_type": "stream",
     "text": [
      "841763884\n"
     ]
    }
   ],
   "source": [
    "# part 1\n",
    "for i in range(1000):\n",
    "    press_button(i)\n",
    "print(low_pulses * high_pulses)"
   ],
   "metadata": {
    "collapsed": false,
    "ExecuteTime": {
     "end_time": "2023-12-21T10:21:01.403008200Z",
     "start_time": "2023-12-21T10:21:01.093959800Z"
    }
   },
   "id": "3a3134f86ffaa739"
  },
  {
   "cell_type": "code",
   "execution_count": 94,
   "outputs": [
    {
     "name": "stdout",
     "output_type": "stream",
     "text": [
      "{'sf': sf, 'zh': zh, 'hk': hk, 'bc': bc, 'st': st, 'gv': gv, 'hv': hv, 'nd': nd, 'zx': zx, 'sc': sc, 'gr': gr, 'pl': pl, 'qc': qc, 'xr': xr, 'zl': zl, 'gj': gj, 'dg': dg, 'nf': nf, 'lz': lz, 'nq': nq, 'rh': rh, 'xf': xf, 'ms': ms, 'mn': mn, 'jm': jm, 'xh': xh, 'pz': pz, 'vq': vq, 'gz': gz, 'bt': bt, 'sg': sg, 'fr': fr, 'lm': lm, 'ld': ld, 'cv': cv, 'cl': cl, 'tr': tr, 'sz': sz, 'dx': dx, 'lr': lr, 'vt': vt, 'll': ll, 'broadcaster': broadcaster, 'lp': lp, 'mm': mm, 'qq': qq, 'xb': xb, 'bx': bx, 'tb': tb, 'hn': hn, 'jf': jf, 'qj': qj, 'xc': xc, 'tg': tg, 'dh': dh, 'ks': ks, 'db': db, 'pm': pm, 'rx': rx}\n"
     ]
    }
   ],
   "source": [
    "print(module_table)"
   ],
   "metadata": {
    "collapsed": false,
    "ExecuteTime": {
     "end_time": "2023-12-21T10:21:02.271562800Z",
     "start_time": "2023-12-21T10:21:02.250560200Z"
    }
   },
   "id": "f1876a198b15b207"
  }
 ],
 "metadata": {
  "kernelspec": {
   "display_name": "Python 3",
   "language": "python",
   "name": "python3"
  },
  "language_info": {
   "codemirror_mode": {
    "name": "ipython",
    "version": 2
   },
   "file_extension": ".py",
   "mimetype": "text/x-python",
   "name": "python",
   "nbconvert_exporter": "python",
   "pygments_lexer": "ipython2",
   "version": "2.7.6"
  }
 },
 "nbformat": 4,
 "nbformat_minor": 5
}
