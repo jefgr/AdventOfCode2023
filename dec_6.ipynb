{
 "cells": [
  {
   "cell_type": "code",
   "execution_count": 5,
   "id": "initial_id",
   "metadata": {
    "collapsed": true,
    "ExecuteTime": {
     "end_time": "2023-12-06T14:10:38.643420100Z",
     "start_time": "2023-12-06T14:10:38.629414100Z"
    }
   },
   "outputs": [],
   "source": [
    "text='''Time:        45     98     83     73\n",
    "Distance:   295   1734   1278   1210'''\n",
    "\n",
    "race1 = [45, 295]\n",
    "race2 = [98, 1734]\n",
    "race3 = [83, 1278]\n",
    "race4 = [73, 1210]\n",
    "races = [race1, race2, race3, race4]\n",
    "race_part_2 = [45988373, 295173412781210]"
   ]
  },
  {
   "cell_type": "code",
   "execution_count": 6,
   "outputs": [
    {
     "name": "stdout",
     "output_type": "stream",
     "text": [
      "1413720\n"
     ]
    }
   ],
   "source": [
    "# PART 1:\n",
    "total_product = 1\n",
    "for race in races:\n",
    "    count = 0\n",
    "    for i in range(race[0]):\n",
    "        speed = i\n",
    "        time = race[0] - i\n",
    "        if speed*time > race[1]:\n",
    "            count += 1\n",
    "    total_product *= count\n",
    "print(total_product)"
   ],
   "metadata": {
    "collapsed": false,
    "ExecuteTime": {
     "end_time": "2023-12-06T14:10:38.975949900Z",
     "start_time": "2023-12-06T14:10:38.964956Z"
    }
   },
   "id": "3ec8c86d3483f6"
  },
  {
   "cell_type": "code",
   "execution_count": 11,
   "outputs": [
    {
     "name": "stdout",
     "output_type": "stream",
     "text": [
      "30565288\n"
     ]
    }
   ],
   "source": [
    "# PART 2:\n",
    "count = 0\n",
    "for i in range(race_part_2[0]):\n",
    "    speed = i\n",
    "    time = race_part_2[0] - i\n",
    "    if speed*time > race_part_2[1]:\n",
    "        count += 1\n",
    "print(count)"
   ],
   "metadata": {
    "collapsed": false,
    "ExecuteTime": {
     "end_time": "2023-12-06T14:12:11.533925500Z",
     "start_time": "2023-12-06T14:12:02.734896900Z"
    }
   },
   "id": "8482ee7479005d56"
  },
  {
   "cell_type": "code",
   "execution_count": null,
   "outputs": [],
   "source": [],
   "metadata": {
    "collapsed": false
   },
   "id": "20a67d625ab003e2"
  }
 ],
 "metadata": {
  "kernelspec": {
   "display_name": "Python 3",
   "language": "python",
   "name": "python3"
  },
  "language_info": {
   "codemirror_mode": {
    "name": "ipython",
    "version": 2
   },
   "file_extension": ".py",
   "mimetype": "text/x-python",
   "name": "python",
   "nbconvert_exporter": "python",
   "pygments_lexer": "ipython2",
   "version": "2.7.6"
  }
 },
 "nbformat": 4,
 "nbformat_minor": 5
}
