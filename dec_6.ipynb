{
 "cells": [
  {
   "cell_type": "code",
   "execution_count": 2,
   "id": "initial_id",
   "metadata": {
    "collapsed": true,
    "ExecuteTime": {
     "end_time": "2023-12-06T14:36:59.814785100Z",
     "start_time": "2023-12-06T14:36:59.693785700Z"
    }
   },
   "outputs": [],
   "source": [
    "import math\n",
    "\n",
    "text='''Time:        45     98     83     73\n",
    "Distance:   295   1734   1278   1210'''\n",
    "\n",
    "race1 = [45, 295]\n",
    "race2 = [98, 1734]\n",
    "race3 = [83, 1278]\n",
    "race4 = [73, 1210]\n",
    "races = [race1, race2, race3, race4]\n",
    "race_part_2 = [45988373, 295173412781210]"
   ]
  },
  {
   "cell_type": "code",
   "execution_count": 12,
   "outputs": [
    {
     "name": "stdout",
     "output_type": "stream",
     "text": [
      "30\n",
      "51\n",
      "42\n",
      "22\n",
      "1413720\n"
     ]
    }
   ],
   "source": [
    "# PART 1:\n",
    "total_product = 1\n",
    "for race in races:\n",
    "    count = 0\n",
    "    for i in range(race[0]):\n",
    "        speed = i\n",
    "        time = race[0] - i\n",
    "        if speed*time > race[1]:\n",
    "            count += 1\n",
    "    total_product *= count\n",
    "    print(count)\n",
    "print(total_product)"
   ],
   "metadata": {
    "collapsed": false,
    "ExecuteTime": {
     "end_time": "2023-12-06T14:41:28.130775500Z",
     "start_time": "2023-12-06T14:41:28.018842Z"
    }
   },
   "id": "3ec8c86d3483f6"
  },
  {
   "cell_type": "code",
   "execution_count": 4,
   "outputs": [
    {
     "name": "stdout",
     "output_type": "stream",
     "text": [
      "30565288\n"
     ]
    }
   ],
   "source": [
    "# PART 2:\n",
    "count = 0\n",
    "for i in range(race_part_2[0]):\n",
    "    speed = i\n",
    "    time = race_part_2[0] - i\n",
    "    if speed*time > race_part_2[1]:\n",
    "        count += 1\n",
    "print(count)"
   ],
   "metadata": {
    "collapsed": false,
    "ExecuteTime": {
     "end_time": "2023-12-06T14:37:11.208954100Z",
     "start_time": "2023-12-06T14:37:00.956814900Z"
    }
   },
   "id": "8482ee7479005d56"
  },
  {
   "cell_type": "markdown",
   "source": [
    "# Solving without brute forcing\n",
    "\n",
    "1. Quadratic function:\n",
    "   $ f(x) = x \\cdot (race[0] - x) $\n",
    "\n",
    "2. Equivalent form:\n",
    "   $ f(x) = -x^2 + race[0] \\cdot x $\n",
    "\n",
    "3. Discriminant calculation:\n",
    "   $ [0 - race[0]] $\n",
    "\n",
    "4. Inequality:\n",
    "   $ race[1] < -x^2 + race[0] \\cdot x $\n",
    "\n",
    "5. Rearranged inequality:\n",
    "   $ 0 < -x^2 + race[0] \\cdot x - race[1] $\n",
    "\n",
    "6. Quadratic formula:\n",
    "   $ x_{1,2} = \\frac{-b \\pm \\sqrt{b^2 - 4ac}}{2a} $\n"
   ],
   "metadata": {
    "collapsed": false
   },
   "id": "bc2f48f068529060"
  },
  {
   "cell_type": "code",
   "execution_count": 14,
   "outputs": [
    {
     "name": "stdout",
     "output_type": "stream",
     "text": [
      "30\n",
      "51\n",
      "42\n",
      "22\n",
      "1413720\n"
     ]
    }
   ],
   "source": [
    "# PART 1\n",
    "total_product = 1\n",
    "for race in races:\n",
    "    a = -1\n",
    "    b = race[0]\n",
    "    c = -race[1]\n",
    "    x1 = (-b - math.pow(math.pow(b , 2) - 4*(a)*(c), 1/2)) / 2*a\n",
    "    x2 = (-b + math.pow(math.pow(b , 2) - 4*(a)*(c), 1/2)) / 2*a\n",
    "    result = abs(int(x1) - int(x2))\n",
    "    print(result)\n",
    "    total_product *= result\n",
    "print(total_product)"
   ],
   "metadata": {
    "collapsed": false,
    "ExecuteTime": {
     "end_time": "2023-12-06T14:43:14.157012300Z",
     "start_time": "2023-12-06T14:43:14.136203600Z"
    }
   },
   "id": "20a67d625ab003e2"
  },
  {
   "cell_type": "code",
   "execution_count": 15,
   "outputs": [
    {
     "name": "stdout",
     "output_type": "stream",
     "text": [
      "30565288\n"
     ]
    }
   ],
   "source": [
    "# PART 2\n",
    "a = -1\n",
    "b = race_part_2[0]\n",
    "c = -race_part_2[1]\n",
    "x1 = (-b - math.pow(math.pow(b , 2) - 4*(a)*(c), 1/2)) / 2*a\n",
    "x2 = (-b + math.pow(math.pow(b , 2) - 4*(a)*(c), 1/2)) / 2*a\n",
    "result = abs(int(x1) - int(x2))\n",
    "print(result)\n"
   ],
   "metadata": {
    "collapsed": false,
    "ExecuteTime": {
     "end_time": "2023-12-06T14:44:00.352347700Z",
     "start_time": "2023-12-06T14:44:00.332307400Z"
    }
   },
   "id": "fa691942db90c36e"
  },
  {
   "cell_type": "code",
   "execution_count": null,
   "outputs": [],
   "source": [],
   "metadata": {
    "collapsed": false
   },
   "id": "9c43f0c5602680cd"
  }
 ],
 "metadata": {
  "kernelspec": {
   "display_name": "Python 3",
   "language": "python",
   "name": "python3"
  },
  "language_info": {
   "codemirror_mode": {
    "name": "ipython",
    "version": 2
   },
   "file_extension": ".py",
   "mimetype": "text/x-python",
   "name": "python",
   "nbconvert_exporter": "python",
   "pygments_lexer": "ipython2",
   "version": "2.7.6"
  }
 },
 "nbformat": 4,
 "nbformat_minor": 5
}
